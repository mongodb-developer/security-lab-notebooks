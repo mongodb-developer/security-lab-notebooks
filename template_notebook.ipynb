{
 "cells": [
  {
   "cell_type": "markdown",
   "metadata": {},
   "source": [
    "### 1. Install atlas CLI on the notebook environment."
   ]
  },
  {
   "cell_type": "code",
   "execution_count": null,
   "metadata": {},
   "outputs": [],
   "source": [
    "# CODE_BLOCK_1",
    "!wget https://fastdl.mongodb.org/mongocli/mongodb-atlas-cli_1.31.0_linux_x86_64.deb",
    "!dpkg -i mongodb-atlas-cli_1.31.0_linux_x86_64.deb"
   ]
  },
  {
   "cell_type": "markdown",
   "metadata": {},
   "source": [
    "### 2. Authenticate the CLI against your Atlas organization."
   ]
  },
  {
   "cell_type": "code",
   "execution_count": null,
   "metadata": {},
   "outputs": [],
   "source": [
    "# CODE_BLOCK_2",
    "!atlas auth login"
   ]
  },
  {
   "cell_type": "markdown",
   "metadata": {},
    "source": [
    "### 3. Create a new project called \\\"MySecureProj\\\""
   ]
  },
  {
   "cell_type": "code",
   "execution_count": null,
   "metadata": {},
   "outputs": [],
   "source": [
    "# CODE_BLOCK_3",
    "import getpass",
    "org_id = getpass.getpass('Enter your org ID: ')",
    "!atlas projects create MySecureProj --orgId {org_id}"
   ]
  },
  {
   "cell_type": "markdown",
   "metadata": {},
   "source": [
    "### 4. Create your challenge cluster"
    ]
  },
  {
   "cell_type": "code",
   "execution_count": null,
   "metadata": {},
   "outputs": [],
   "source": [
    "# CODE_BLOCK_4",
    "project_id = getpass.getpass('Enter your project ID: ')",
    "!atlas clusters create MyNewCluster --provider AWS --region US_EAST_1 --tier M0 --projectId {project_id}"
   ]
  },
  {
   "cell_type": "markdown",
   "metadata": {},
   "source": [
    "### 1. Add 'My current IP' temporary into the atlas project"
   ]
  },
  {
   "cell_type": "code",
   "execution_count": null,
   "metadata": {},
   "outputs": [],
   "source": [
    "# CODE_BLOCK_5",
    "from datetime import datetime, timedelta",
    "delete_after = (datetime.utcnow() + timedelta(hours=24)).isoformat() + 'Z'",
    "!atlas accessLists ..."
   ]
  },
   {
   "cell_type": "markdown",
   "metadata": {},
   "source": [
    "### 2. Check that 'My current IP' was added:"
   ]
  },
   {
   "cell_type": "code",
   "execution_count": null,
   "metadata": {},
   "outputs": [],
   "source": [
    "# CODE_BLOCK_6",
    "!atlas accessLists list --output json --projectId {project_id}"
   ]
  },
  {
   "cell_type": "markdown",
   "metadata": {},
   "source": [
    "### 1. Let's create a SCRAM user: 'myUser' with User/Password authentication and assign it the 'readWriteAnyDatabase' role."
   ]
  },
  {
   "cell_type": "code",
   "execution_count": null,
   "metadata": {},
   "outputs": [],
   "source": [
    "# CODE_BLOCK_7",
    "!atlas dbusers create ..."
   ]
  },
  {
   "cell_type": "markdown",
   "metadata": {},
   "source": [
    "### 2. Lets test our SCRAM user successful creation by performing the authentication process"
   ]
  },
  {
   "cell_type": "code",
   "execution_count": null,
   "metadata": {},
   "outputs": [],
   "source": [
    "# CODE_BLOCK_8",
    "!pip install pymongo dnspython"
   ]
  },
  {
   "cell_type": "code",
   "execution_count": null,
   "metadata": {},
   "outputs": [],
   "source": [
    "# CODE_BLOCK_9",
    "connection = !atlas clusters connectionStrings describe  MyNewCluster --projectId {project_id}",
    "username = 'myUser'",
    "password = 'mySecurePassword'",
    "new_connection = connection[1].replace('mongodb+srv://', f'mongodb+srv://{username}:{password}@')",
    "print(new_connection)",
    "from pymongo import MongoClient",
    "client = MongoClient(new_connection)",
    "client.list_database_names()"
   ]
  },
  {
   "cell_type": "markdown",
   "metadata": {},
   "source": [
    "### 3. Let's create  X509 user: 'myX509User' with User/Password authentication and assign it the 'readWriteAnyDatabase' role."
   ]
  },
  {
   "cell_type": "code",
   "execution_count": null,
   "metadata": {},
   "outputs": [],
   "source": [
    "# CODE_BLOCK_10",
    "!atlas dbusers create ...",
    "!atlas dbusers certs create ...  > /tmp/cert.pem"
   ]
  },
  {
   "cell_type": "markdown",
   "metadata": {},
   "source": [
    "### 4. Let's test our X509 User"
   ]
  },
  {
   "cell_type": "code",
   "execution_count": null,
   "metadata": {},
   "outputs": [],
   "source": [
    "# CODE_BLOCK_11",
    "username='myX509User'",
    "connection = !atlas clusters connectionStrings describe MyNewCluster --projectId {project_id}",
    "new_connection = connection[1].replace('.net', '.net?authSource=%24external&authMechanism=MONGODB-X509')",
    "print(new_connection)",
    "from pymongo import MongoClient",
    "client = MongoClient(new_connection,",
    "                     tlsCertificateKeyFile='/tmp/cert.pem')",
    "client.list_database_names()"
   ]
  },
  {
   "cell_type": "markdown",
   "metadata": {},
   "source": [
    "### 1. Let's create a user: 'myAdmin' with User/Password authentication and assign it the 'readWriteAnyDatabase' role, but only for the 'MyNewCluster' database."
   ]
  },
  {
   "cell_type": "code",
   "execution_count": null,
   "metadata": {},
   "outputs": [],
   "source": [
    "# CODE_BLOCK_12",
    "!atlas dbusers create ..."
   ]
  },
  {
   "cell_type": "markdown",
   "metadata": {},
   "source": [
    "### 2. Let's create a user: 'readOnlyUser' with read-only access to the 'salesDB' database."
   ]
  },
  {
   "cell_type": "code",
   "execution_count": null,
   "metadata": {},
   "outputs": [],
   "source": [
    "# CODE_BLOCK_13",
    "!atlas customDbRoles create ...",
    "!atlas dbusers create ..."
   ]
  },
  {
   "cell_type": "markdown",
   "metadata": {},
   "source": [
    "### 3. Let's test that the 'readOnlyUser' cannot insert data into the 'salesDB' database."
   ]
  },
  {
   "cell_type": "code",
   "execution_count": null,
   "metadata": {},
   "outputs": [],
   "source": [
    "# CODE_BLOCK_14",
    "# Assuming you have the connection string and credentials for the readOnlyUser",
    "username = 'readOnlyUser'",
    "password = 'readOnlyPass'",
    "connection = !atlas clusters connectionStrings describe MyNewCluster --projectId {project_id}",
    "new_connection = connection[1].replace('mongodb+srv://', f'mongodb+srv://{username}:{password}@')",
    "client = MongoClient(new_connection)",
    "db = client['salesDB']",
    "collection = db['mycollection']",
    "try:",
    "  data = {'name': 'John Doe', 'age': 30}",
    "  result = collection.insert_one(data)",
    "  print(f\"Inserted document with ID: {result.inserted_id}\")",
    "except Exception as e:",
    "  print(f\"Error inserting data: {e}\")"
   ]
  },
  {
   "cell_type": "markdown",
   "metadata": {},
   "source": [
    "### 4. Let's test that the 'myAdmin' user can insert data into the 'salesDB' database."
   ]
  },
  {
   "cell_type": "code",
   "execution_count": null,
   "metadata": {},
   "outputs": [],
   "source": [
    "# CODE_BLOCK_15",
    "# Assuming you have the connection string and credentials for the myAdmin user",
    "username = 'myAdmin'",
    "password = 'secureAdminPass'",
    "connection = !atlas clusters connectionStrings describe MyNewCluster --projectId {project_id}",
    "new_connection = connection[1].replace('mongodb+srv://', f'mongodb+srv://{username}:{password}@')",
    "client = MongoClient(new_connection)",
    "db = client['salesDB']",
    "collection = db['mycollection']",
    "try:",
    "  data = {'name': 'John Doe', 'age': 30}",
    "  result = collection.insert_one(data)",
    "  print(f\"Inserted document with ID: {result.inserted_id}\")",
    "except Exception as e:",
    "  print(f\"Error inserting data: {e}\")"
   ]
  },
  {
   "cell_type": "markdown",
   "metadata": {},
   "source": [
    "### 1. Install the necessary packages."
   ]
  },
  {
   "cell_type": "code",
   "execution_count": null,
   "metadata": {},
   "outputs": [],
   "source": [
    "# CODE_BLOCK_16",
    "!pip install pymongo[encryption]",
    "!pip install pymongo",
    "!pip install requests"
   ]
  },
  {
   "cell_type": "markdown",
   "metadata": {},
   "source": [
    "### 2. Set up the crypt_shared library."
   ]
  },
  {
   "cell_type": "code",
   "execution_count": null,
   "metadata": {},
   "outputs": [],
   "source": [
    "# CODE_BLOCK_17",
    "import os",
    "from pymongo import MongoClient",
    "from pymongo.encryption import Algorithm, ClientEncryption, QueryType",
    "from pymongo.encryption_options import AutoEncryptionOpts",
    "from bson.codec_options import CodecOptions",
    "from bson import json_util",
    "import json",
    "import requests",
    "import platform",
    "import tempfile",
    "def setup_crypt_shared():",
    "    system = platform.system().lower()",
    "    if system == \"linux\":",
    "        url = \"https://downloads.mongodb.com/linux/mongo_crypt_shared_v1-linux-x86_64-enterprise-ubuntu2004-6.0.6.tgz\"",
    "        filename = \"mongo_crypt_shared_v1-linux-x86_64-enterprise-ubuntu2004-6.0.6.tgz\"",
    "    elif system == \"darwin\":",
    "        url = \"https://downloads.mongodb.com/osx/mongo_crypt_shared_v1-macos-x86_64-enterprise-6.0.6.tgz\"",
    "        filename = \"mongo_crypt_shared_v1-macos-x86_64-enterprise-6.0.6.tgz\"",
    "    elif system == \"windows\":",
    "        url = \"https://downloads.mongodb.com/windows/mongo_crypt_shared_v1-windows-x86_64-enterprise-6.0.6.zip\"",
    "        filename = \"mongo_crypt_shared_v1-windows-x86_64-enterprise-6.0.6.zip\"",
    "    else:",
    "        raise OSError(\"Unsupported operating system\")",
    "    response = requests.get(url)",
    "    response.raise_for_status()",
    "    with tempfile.NamedTemporaryFile(delete=False, suffix=\".tgz\" if system != \"windows\" else \".zip\") as tmp_file:",
    "        tmp_file.write(response.content)",
    "        tmp_file_path = tmp_file.name",
    "    extract_dir = tempfile.mkdtemp()",
    "    if system != \"windows\":",
    "        os.system(f\"tar -xzf {tmp_file_path} -C {extract_dir}\")",
    "        lib_path = os.path.join(extract_dir, \"lib\", \"mongo_crypt_v1.so\")",
    "    else:",
    "        os.system(f\"powershell Expand-Archive -Path {tmp_file_path} -DestinationPath {extract_dir}\")",
    "        lib_path = os.path.join(extract_dir, \"bin\", \"mongo_crypt_v1.dll\")",
    "    return lib_path",
    "crypt_shared_lib_path = setup_crypt_shared()",
    "print(f\"Crypt shared library path: {crypt_shared_lib_path}\")"
   ]
  },
  {
   "cell_type": "markdown",
   "metadata": {},
   "source": [
    "### 3. Connect to your Atlas cluster."
   ]
  },
  {
   "cell_type": "code",
   "execution_count": null,
   "metadata": {},
   "outputs": [],
   "source": [
    "# CODE_BLOCK_18",
    "connection = !atlas clusters connectionStrings describe  MyNewCluster --projectId {project_id}",
    "username = 'myUser'",
    "password = 'mySecurePassword'",
    "new_connection = connection[1].replace('mongodb+srv://', f'mongodb+srv://{username}:{password}@')",
    "print(new_connection)",
    "from pymongo import MongoClient",
    "client = MongoClient(new_connection)"
   ]
  },
  {
   "cell_type": "markdown",
   "metadata": {},
   "source": [
    "### 4. Set up encryption key and providers, define the encrypted fields map, create an encrypted client, and set up the key vault."
   ]
  },
  {
   "cell_type": "code",
   "execution_count": null,
   "metadata": {},
   "outputs": [],
   "source": [
    "# CODE_BLOCK_19",
    "..."
   ]
  },
  {
   "cell_type": "markdown",
   "metadata": {},
   "source": [
    "### 5. Insert an encrypted document."
   ]
  },
  {
   "cell_type": "code",
   "execution_count": null,
   "metadata": {},
   "outputs": [],
   "source": [
    "# CODE_BLOCK_20",
    "..."
   ]
  },
  {
   "cell_type": "markdown",
   "metadata": {},
   "source": [
    "### 6. Query the encrypted collection."
   ]
  },
  {
   "cell_type": "code",
   "execution_count": null,
   "metadata": {},
   "outputs": [],
   "source": [
    "# CODE_BLOCK_21",
    "..."
   ]
  },
  {
   "cell_type": "markdown",
   "metadata": {},
   "source": [
    "### 7. Query the collection without encryption."
   ]
  },
  {
   "cell_type": "code",
   "execution_count": null,
   "metadata": {},
   "outputs": [],
   "source": [
    "# CODE_BLOCK_22",
    "..."
   ]
  }
 ],
 "metadata": {
  "kernelspec": {
   "display_name": "Python 3",
   "language": "python",
   "name": "python3"
  },
  "language_info": {
   "codemirror_mode": {
    "name": "ipython",
    "version": 3
   },
   "file_extension": ".py",
   "mimetype": "text/x-python",
   "name": "python",
   "nbconvert_exporter": "python",
   "pygments_lexer": "ipython3",
   "version": "3.8.5"
  }
 },
 "nbformat": 4,
 "nbformat_minor": 0
}
