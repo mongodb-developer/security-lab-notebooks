{
 "cells": [
  {
   "cell_type": "markdown",
   "metadata": {},
   "source": [
    "[![Open In Colab](https://colab.research.google.com/assets/colab-badge.svg)](https://colab.research.google.com/github/mongodb-developer/security-lab-notebooks/blob/main/template_notebook.ipynb)\n",
    "### 1. Install atlas CLI on the notebook environment."
   ]
  },
  {
   "cell_type": "markdown",
   "metadata": {},
   "source": [
    "## Setup"
   ]
  },
  {
   "cell_type": "code",
   "execution_count": null,
   "metadata": {},
   "outputs": [],
   "source": [
    "#Install atlas-cli\n",
    "\n",
    "!wget https://fastdl.mongodb.org/mongocli/mongodb-atlas-cli_1.37.0_linux_x86_64.deb\n",
    "!dpkg -i mongodb-atlas-cli_1.37.0_linux_x86_64.deb\n",
    "\n",
    "# If you require sudo privilege, run the following instead:\n",
    "# !sudo dpkg -i mongodb-atlas-cli_1.37.0_linux_x86_64.deb"
   ]
  },
  {
   "cell_type": "markdown",
   "metadata": {},
   "source": [
    "### 2. Authenticate the CLI against your Atlas organization."
   ]
  },
  {
   "cell_type": "markdown",
   "metadata": {},
   "source": [
    "`atlas auth login` typically enters interactive mode. \n",
    "We are piping a new line character so that it selects a default organization for you. "
   ]
  },
  {
   "cell_type": "code",
   "execution_count": null,
   "metadata": {},
   "outputs": [],
   "source": [
    "# Authenticate with Atlas CLI\n",
    "!echo -e \"\\n\" | atlas auth login --noBrowser"
   ]
  },
  {
   "cell_type": "markdown",
   "metadata": {},
   "source": [
    "### 3. Create a new project called \\\"MySecureProj\\\""
   ]
  },
  {
   "cell_type": "markdown",
   "metadata": {},
   "source": [
    "Replace `<ORGANIZATION_ID>` with the Organization ID from the previous step."
   ]
  },
  {
   "cell_type": "code",
   "execution_count": null,
   "metadata": {},
   "outputs": [],
   "source": [
    "# Retain the quotes (\"\") when pasting the Organization ID\n",
    "org_id = \"<ORGANIZATION_ID>\"\n",
    "!atlas projects create MySecureProj --orgId {org_id}"
   ]
  },
  {
   "cell_type": "markdown",
   "metadata": {},
   "source": [
    "### 4. Create your challenge cluster"
   ]
  },
  {
   "cell_type": "markdown",
   "metadata": {},
   "source": [
    "Replace `<PROJECT_ID>` with the Project ID from the previous step."
   ]
  },
  {
   "cell_type": "code",
   "execution_count": null,
   "metadata": {},
   "outputs": [],
   "source": [
    "# Retain the quotes (\"\") when pasting the Project ID\n",
    "project_id = \"<PROJECT_ID>\"\n",
    "# You may select a region closer to you instead of \"US_EAST_1\"\n",
    "!atlas clusters create MyNewCluster --provider AWS --region US_EAST_1 --tier M0 --projectId {project_id}"
   ]
  },
  {
   "cell_type": "markdown",
   "metadata": {},
   "source": [
    "## Network Challenge"
   ]
  },
  {
   "cell_type": "markdown",
   "metadata": {},
   "source": [
    "### 5. Add 'My current IP' temporary into the atlas project"
   ]
  },
  {
   "cell_type": "markdown",
   "metadata": {},
   "source": [
    "Refer to documentations : [atlas accessList](https://www.mongodb.com/docs/atlas/cli/current/command/atlas-accessLists/#std-label-atlas-accessLists)"
   ]
  },
  {
   "cell_type": "code",
   "execution_count": null,
   "metadata": {},
   "outputs": [],
   "source": [
    "from datetime import datetime, timedelta\n",
    "# Calculate the date and time 24 hours from now\n",
    "delete_after = (datetime.utcnow() + timedelta(hours=24)).isoformat() + 'Z'\n",
    "!atlas accessLists <CODE_BLOCK> --projectId {project_id} --deleteAfter {delete_after}"
   ]
  },
  {
   "cell_type": "markdown",
   "metadata": {},
   "source": [
    "### 6. Check that 'My current IP' was added:"
   ]
  },
  {
   "cell_type": "code",
   "execution_count": null,
   "metadata": {},
   "outputs": [],
   "source": [
    "!atlas accessLists list --output json --projectId {project_id}"
   ]
  },
  {
   "cell_type": "markdown",
   "metadata": {},
   "source": [
    "## Authentication Challenge"
   ]
  },
  {
   "cell_type": "markdown",
   "metadata": {},
   "source": [
    "### 7. Let's create a SCRAM user: 'myUser' with User/Password authentication and assign it the 'readWriteAnyDatabase' role."
   ]
  },
  {
   "cell_type": "markdown",
   "metadata": {},
   "source": [
    "Refer to documentations: [atlas dbusers](https://www.mongodb.com/docs/atlas/cli/current/command/atlas-dbusers-create/)"
   ]
  },
  {
   "cell_type": "code",
   "execution_count": null,
   "metadata": {},
   "outputs": [],
   "source": [
    "# create a SCRAM user with username: \"myUser\", password: \"mySecurePassword\" and role: \"readWriteAnyDatabase\"\n",
    "username = \"myUser\"\n",
    "password = \"mySecurePassword\"\n",
    "!atlas dbusers create <CODE_BLOCK> --projectId {project_id}"
   ]
  },
  {
   "cell_type": "markdown",
   "metadata": {},
   "source": [
    "### 8. Lets test our SCRAM user successful creation by performing the authentication process"
   ]
  },
  {
   "cell_type": "code",
   "execution_count": null,
   "metadata": {},
   "outputs": [],
   "source": [
    "!pip install pymongo dnspython"
   ]
  },
  {
   "cell_type": "code",
   "execution_count": null,
   "metadata": {},
   "outputs": [],
   "source": [
    "# retrieve connection string\n",
    "connection = !atlas clusters connectionStrings describe  MyNewCluster --projectId {project_id}\n",
    "\n",
    "# add username and password to connection string\n",
    "new_connection = connection[1].replace('mongodb+srv://', f'mongodb+srv://{username}:{password}@')\n",
    "print(new_connection)\n",
    "\n",
    "#make the connection get the list of databases\n",
    "from pymongo import MongoClient\n",
    "client = MongoClient(new_connection)\n",
    "client.list_database_names()"
   ]
  },
  {
   "cell_type": "markdown",
   "metadata": {},
   "source": [
    "### 10. Create a X509 user and certificate"
   ]
  },
  {
   "cell_type": "markdown",
   "metadata": {},
   "source": [
    "Refer to documentations: [atlas dbusers](https://www.mongodb.com/docs/atlas/cli/current/command/atlas-dbusers-create/)"
   ]
  },
  {
   "cell_type": "code",
   "execution_count": null,
   "metadata": {},
   "outputs": [],
   "source": [
    "# create a Atlas-managed X509 user with username: \"myX509User\" and role: \"readAnyDatabase\" \n",
    "!atlas dbusers create <CODE_BLOCK> --projectId {project_id}"
   ]
  },
  {
   "cell_type": "markdown",
   "metadata": {},
   "source": [
    "Refer to documentations: [atlas dbusers certs](https://www.mongodb.com/docs/atlas/cli/current/command/atlas-dbusers-certs-create/)"
   ]
  },
  {
   "cell_type": "code",
   "execution_count": null,
   "metadata": {},
   "outputs": [],
   "source": [
    "# Generate a certification for \"myX509user\", set monthsUntilExpiration to 1, and save it to /tmp/cert.pem\n",
    "!atlas dbusers certs create <CODE_BLOCK> --projectId {project_id} > /tmp/cert.pem"
   ]
  },
  {
   "cell_type": "markdown",
   "metadata": {},
   "source": [
    "### 11. Let's test our X509 User"
   ]
  },
  {
   "cell_type": "code",
   "execution_count": null,
   "metadata": {},
   "outputs": [],
   "source": [
    "# Get connection string\n",
    "connection = !atlas clusters connectionStrings describe MyNewCluster --projectId {project_id}\n",
    "\n",
    "# Modify connection string to use X509 as authentication mechanism \n",
    "new_connection = connection[1].replace('.net', '.net?authSource=%24external&authMechanism=MONGODB-X509')\n",
    "print(new_connection)\n",
    "\n",
    "# Connect using the certificate\n",
    "from pymongo import MongoClient\n",
    "client = MongoClient(new_connection,\n",
    "                     tlsCertificateKeyFile='/tmp/cert.pem')\n",
    "\n",
    "# Access the database\n",
    "client.list_database_names()"
   ]
  },
  {
   "cell_type": "markdown",
   "metadata": {},
   "source": [
    "## RBAC Challenge"
   ]
  },
  {
   "cell_type": "markdown",
   "metadata": {},
   "source": [
    "### 12. Create a user for \"MyNewCluster\" database only\n"
   ]
  },
  {
   "cell_type": "code",
   "execution_count": null,
   "metadata": {},
   "outputs": [],
   "source": [
    "# Create a user:'myNewClusterAdmin', password:'myNewClusterAdminPass', role: 'readWriteAnyDatabase'\n",
    "# and scoped to \"MyNewCluster\" database\n",
    "newClusterAdminUser = 'myNewClusterAdmin'\n",
    "newClusterAdminPass = 'myNewClusterAdminPass'\n",
    "!atlas dbusers create <CODE_BLOCK> --scope <CLUSTER_NAME> --projectId {project_id}"
   ]
  },
  {
   "cell_type": "markdown",
   "metadata": {},
   "source": [
    "### 13. Create user with read-only access to the 'salesDB' database"
   ]
  },
  {
   "cell_type": "code",
   "execution_count": null,
   "metadata": {},
   "outputs": [],
   "source": [
    "#Create a role \"salesRead\" which access to read-only role to salesDB database\n",
    "!atlas customDbRoles create <CODE_BLOCK>\n",
    "\n",
    "#Create a user \"salesReadUser\" with password \"salesReadPass\" which has the \"salesRead\" role\n",
    "salesReadUser = 'salesReadUser'\n",
    "salesReadPass = 'salesReadPass'\n",
    "!atlas dbusers create <CODE_BLOCK> --projectId {project_id}"
   ]
  },
  {
   "cell_type": "markdown",
   "metadata": {},
   "source": [
    "### 14. Test that 'salesReadUser' cannot insert data into the 'salesDB' database."
   ]
  },
  {
   "cell_type": "code",
   "execution_count": null,
   "metadata": {},
   "outputs": [],
   "source": [
    "# Get connection string\n",
    "connection = !atlas clusters connectionStrings describe MyNewCluster --projectId {project_id}\n",
    "\n",
    "# Replace connection string with username and password\n",
    "new_connection = connection[1].replace('mongodb+srv://', f'mongodb+srv://{salesReadUser}:{salesReadPass}@')\n",
    "\n",
    "# Attempt to insert data\n",
    "client = MongoClient(new_connection)\n",
    "db = client['salesDB']\n",
    "collection = db['mycollection']\n",
    "try:\n",
    "  data = {'name': 'John Doe', 'age': 30}\n",
    "  result = collection.insert_one(data)\n",
    "  print(f\"Inserted document with ID: {result.inserted_id}\")\n",
    "except Exception as e:\n",
    "  print(f\"Error inserting data: {e}\")"
   ]
  },
  {
   "cell_type": "markdown",
   "metadata": {},
   "source": [
    "### 15. Test that 'myNewClusterAdmin' can insert data into the 'salesDB' database."
   ]
  },
  {
   "cell_type": "code",
   "execution_count": null,
   "metadata": {},
   "outputs": [],
   "source": [
    "# Get connection string\n",
    "connection = !atlas clusters connectionStrings describe MyNewCluster --projectId {project_id}\n",
    "\n",
    "# Replace \n",
    "new_connection = connection[1].replace('mongodb+srv://', f'mongodb+srv://{username}:{password}@')\n",
    "client = MongoClient(new_connection)\n",
    "db = client['salesDB']\n",
    "collection = db['mycollection']\n",
    "try:\n",
    "  data = {'name': 'John Doe', 'age': 30}\n",
    "  result = collection.insert_one(data)\n",
    "  print(f\"Inserted document with ID: {result.inserted_id}\")\n",
    "except Exception as e:\n",
    "  print(f\"Error inserting data: {e}\")"
   ]
  },
  {
   "cell_type": "markdown",
   "metadata": {},
   "source": [
    "## Encryption Challenge"
   ]
  },
  {
   "cell_type": "markdown",
   "metadata": {},
   "source": [
    "### 16. Install the necessary packages."
   ]
  },
  {
   "cell_type": "code",
   "execution_count": null,
   "metadata": {},
   "outputs": [],
   "source": [
    "!pip install pymongo[encryption]\n",
    "!pip install pymongo\n",
    "!pip install requests"
   ]
  },
  {
   "cell_type": "markdown",
   "metadata": {},
   "source": [
    "### 17. Set up the crypt_shared library."
   ]
  },
  {
   "cell_type": "code",
   "execution_count": null,
   "metadata": {},
   "outputs": [],
   "source": [
    "import os\n",
    "from pymongo import MongoClient\n",
    "from pymongo.encryption import Algorithm, ClientEncryption, QueryType\n",
    "from pymongo.encryption_options import AutoEncryptionOpts\n",
    "from bson.codec_options import CodecOptions\n",
    "from bson import json_util\n",
    "import json\n",
    "import requests\n",
    "import platform\n",
    "import tempfile\n",
    "def setup_crypt_shared():\n",
    "    system = platform.system().lower()\n",
    "    if system == \"linux\":\n",
    "        url = \"https://downloads.mongodb.com/linux/mongo_crypt_shared_v1-linux-x86_64-enterprise-ubuntu2004-6.0.6.tgz\"\n",
    "        filename = \"mongo_crypt_shared_v1-linux-x86_64-enterprise-ubuntu2004-6.0.6.tgz\"\n",
    "    elif system == \"darwin\":\n",
    "        url = \"https://downloads.mongodb.com/osx/mongo_crypt_shared_v1-macos-x86_64-enterprise-6.0.6.tgz\"\n",
    "        filename = \"mongo_crypt_shared_v1-macos-x86_64-enterprise-6.0.6.tgz\"\n",
    "    elif system == \"windows\":\n",
    "        url = \"https://downloads.mongodb.com/windows/mongo_crypt_shared_v1-windows-x86_64-enterprise-6.0.6.zip\"\n",
    "        filename = \"mongo_crypt_shared_v1-windows-x86_64-enterprise-6.0.6.zip\"\n",
    "    else:\n",
    "        raise OSError(\"Unsupported operating system\")\n",
    "    response = requests.get(url)\n",
    "    response.raise_for_status()\n",
    "    with tempfile.NamedTemporaryFile(delete=False, suffix=\".tgz\" if system != \"windows\" else \".zip\") as tmp_file:\n",
    "        tmp_file.write(response.content)\n",
    "        tmp_file_path = tmp_file.name\n",
    "    extract_dir = tempfile.mkdtemp()\n",
    "    if system != \"windows\":\n",
    "        os.system(f\"tar -xzf {tmp_file_path} -C {extract_dir}\")\n",
    "        lib_path = os.path.join(extract_dir, \"lib\", \"mongo_crypt_v1.so\")\n",
    "    else:\n",
    "        os.system(f\"powershell Expand-Archive -Path {tmp_file_path} -DestinationPath {extract_dir}\")\n",
    "        lib_path = os.path.join(extract_dir, \"bin\", \"mongo_crypt_v1.dll\")\n",
    "    return lib_path\n",
    "crypt_shared_lib_path = setup_crypt_shared()\n",
    "print(f\"Crypt shared library path: {crypt_shared_lib_path}\")"
   ]
  },
  {
   "cell_type": "markdown",
   "metadata": {},
   "source": [
    "### 18. Connect to your Atlas cluster."
   ]
  },
  {
   "cell_type": "code",
   "execution_count": null,
   "metadata": {},
   "outputs": [],
   "source": [
    "connection = !atlas clusters connectionStrings describe  MyNewCluster --projectId {project_id}\n",
    "new_connection = connection[1].replace('mongodb+srv://', f'mongodb+srv://{username}:{password}@')\n",
    "print(new_connection)\n",
    "from pymongo import MongoClient\n",
    "client = MongoClient(new_connection)"
   ]
  },
  {
   "cell_type": "markdown",
   "metadata": {},
   "source": [
    "### 19. Set up an encrypted client using a local KMS provider."
   ]
  },
  {
   "cell_type": "code",
   "execution_count": null,
   "metadata": {},
   "outputs": [],
   "source": [
    "# generate a random 96 byte key\n",
    "local_master_key = os.urandom(96)\n",
    "\n",
    "# configure encryption options\n",
    "kms_providers = {\"local\": {\"key\": local_master_key}}\n",
    "key_vault_namespace = \"encryption.__keyVault\"\n",
    "key_vault_database_name = \"encryption\"\n",
    "key_vault_collection_name = \"__keyVault\"\n",
    "key_vault_namespace = f\"{key_vault_database_name}.{key_vault_collection_name}\"\n",
    "\n",
    "auto_encryption_options = AutoEncryptionOpts(\n",
    "    kms_providers,\n",
    "    key_vault_namespace,\n",
    "    crypt_shared_lib_path=crypt_shared_lib_path\n",
    ")\n",
    "\n",
    "# set up client and encryption\n",
    "encrypted_client = MongoClient(\n",
    "    new_connection, auto_encryption_opts=auto_encryption_options)\n",
    "\n",
    "\n",
    "client_encryption = ClientEncryption(\n",
    "    kms_providers=kms_providers,\n",
    "    key_vault_namespace=key_vault_namespace,\n",
    "    key_vault_client=encrypted_client,\n",
    "    codec_options=CodecOptions()\n",
    ")"
   ]
  },
  {
   "cell_type": "markdown",
   "metadata": {},
   "source": [
    "### 20. Consider the following sample 'patient' document:"
   ]
  },
  {
   "cell_type": "code",
   "execution_count": null,
   "metadata": {},
   "outputs": [],
   "source": [
    "patient_document = {\n",
    "    \"patientName\": \"Jon Doe\",\n",
    "    \"patientId\": 12345678,\n",
    "    \"patientRecord\": {\n",
    "        \"ssn\": \"987-65-4320\",\n",
    "        \"billing\": {\n",
    "            \"type\": \"Visa\",\n",
    "            \"number\": \"4111111111111111\",\n",
    "        },\n",
    "    },\n",
    "}"
   ]
  },
  {
   "cell_type": "markdown",
   "metadata": {},
   "source": [
    "### 21. Create an encrypted collection based on the following requirements:\n",
    "- 'patientRecord.ssn' and 'billing' must be encrypted\n",
    "- patients will be queried by 'patientRecord.ssn'"
   ]
  },
  {
   "cell_type": "code",
   "execution_count": null,
   "metadata": {},
   "outputs": [],
   "source": [
    "# Create encrypted fields map, remeber that type is \"string\" and not \"String\" and \"object\" and not \"Object\"\n",
    "encrypted_fields_map = <CODE_BLOCK>\n",
    "\n",
    "encrypted_database_name = 'medicalRecords'\n",
    "encrypted_collection_name = 'patients'\n",
    "kms_provider_name = 'local'\n",
    "client_encryption.create_encrypted_collection(\n",
    "    encrypted_client[encrypted_database_name],\n",
    "    encrypted_collection_name,\n",
    "    encrypted_fields_map,\n",
    "    kms_provider_name,\n",
    "    {},\n",
    ")"
   ]
  },
  {
   "cell_type": "markdown",
   "metadata": {},
   "source": [
    "### 22. Insert the sample 'patient' document."
   ]
  },
  {
   "cell_type": "code",
   "execution_count": null,
   "metadata": {},
   "outputs": [],
   "source": [
    "encrypted_collection = encrypted_client[encrypted_database_name][encrypted_collection_name]\n",
    "result = <CODE_BLOCK>\n",
    "print(f\"Inserted document ID: {result.inserted_id}\")"
   ]
  },
  {
   "cell_type": "markdown",
   "metadata": {},
   "source": [
    "### 22. Find the patient by its ssn"
   ]
  },
  {
   "cell_type": "code",
   "execution_count": null,
   "metadata": {},
   "outputs": [],
   "source": [
    "find_result = <CODE_BLOCK>\n",
    "print(find_result)"
   ]
  },
  {
   "cell_type": "markdown",
   "metadata": {},
   "source": [
    "### 23. Make the same query the collection without encryption/decryption."
   ]
  },
  {
   "cell_type": "code",
   "execution_count": null,
   "metadata": {},
   "outputs": [],
   "source": [
    "reg_mongoclient = MongoClient(new_connection)\n",
    "reg_collection = reg_mongoclient[encrypted_database_name][encrypted_collection_name] \n",
    "find_result = reg_colloection.find_one({\"patientRecord.ssn\": \"987-65-4320\"})\n",
    "print(find_result)"
   ]
  },
  {
   "cell_type": "markdown",
   "metadata": {},
   "source": [
    "### 24. Read all documents in the collection without encryption/decryption."
   ]
  },
  {
   "cell_type": "code",
   "execution_count": null,
   "metadata": {},
   "outputs": [],
   "source": [
    "all_docs = reg_mongoclient[encrypted_database_name][encrypted_collection_name].find()\n",
    "print(\"\\nAll documents in the collection:\")\n",
    "for doc in all_docs:\n",
    "    print(doc)"
   ]
  }
 ],
 "metadata": {
  "kernelspec": {
   "display_name": "Python 3",
   "language": "python",
   "name": "python3"
  },
  "language_info": {
   "codemirror_mode": {
    "name": "ipython",
    "version": 3
   },
   "file_extension": ".py",
   "mimetype": "text/x-python",
   "name": "python",
   "nbconvert_exporter": "python",
   "pygments_lexer": "ipython3",
   "version": "3.8.5"
  }
 },
 "nbformat": 4,
 "nbformat_minor": 0
}
