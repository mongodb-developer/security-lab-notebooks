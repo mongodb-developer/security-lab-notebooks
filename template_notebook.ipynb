{
 "cells": [
  {
   "cell_type": "markdown",
   "metadata": {},
   "source": [
    "[![Open In Colab](https://colab.research.google.com/assets/colab-badge.svg)](https://colab.research.google.com/github/mongodb-developer/security-lab-notebooks/blob/main/template_notebook.ipynb",
    "### 1. Install atlas CLI on the notebook environment."
   ]
  },
  {
   "cell_type": "code",
   "execution_count": null,
   "metadata": {},
   "outputs": [],
   "source": [
    "# CODE_BLOCK_1\n",
    "\n",
    "!wget https://fastdl.mongodb.org/mongocli/mongodb-atlas-cli_1.31.0_linux_x86_64.deb\n",
    "!dpkg -i mongodb-atlas-cli_1.31.0_linux_x86_64.deb\n",
    "\n",
    "## Might require:\n",
    "## !sudo dpkg -i mongodb-atlas-cli_1.31.0_linux_x86_64.deb"
   ]
  },
  {
   "cell_type": "markdown",
   "metadata": {},
   "source": [
    "### 2. Authenticate the CLI against your Atlas organization."
   ]
  },
  {
   "cell_type": "code",
   "execution_count": null,
   "metadata": {},
   "outputs": [],
   "source": [
    "# CODE_BLOCK_2\n",
    "\n",
    "!atlas auth login"
   ]
  },
  {
   "cell_type": "markdown",
   "metadata": {},
   "source": [
    "### 3. Create a new project called \\\"MySecureProj\\\""
   ]
  },
  {
   "cell_type": "code",
   "execution_count": null,
   "metadata": {},
   "outputs": [],
   "source": [
    "# CODE_BLOCK_3\n",
    "\n",
    "import getpass\n",
    "org_id = getpass.getpass('Enter your org ID: ')\n",
    "!atlas projects create MySecureProj --orgId {org_id}"
   ]
  },
  {
   "cell_type": "markdown",
   "metadata": {},
   "source": [
    "### 4. Create your challenge cluster"
   ]
  },
  {
   "cell_type": "code",
   "execution_count": null,
   "metadata": {},
   "outputs": [],
   "source": [
    "# CODE_BLOCK_4\n",
    "\n",
    "project_id = getpass.getpass('Enter your project ID: ')\n",
    "!atlas clusters create MyNewCluster --provider AWS --region US_EAST_1 --tier M0 --projectId {project_id}"
   ]
  },
  {
   "cell_type": "markdown",
   "metadata": {},
   "source": [
    "### 5. Add 'My current IP' temporary into the atlas project"
   ]
  },
  {
   "cell_type": "code",
   "execution_count": null,
   "metadata": {},
   "outputs": [],
   "source": [
    "# CODE_BLOCK_5\n",
    "\n",
    "from datetime import datetime, timedelta\n",
    "delete_after = (datetime.utcnow() + timedelta(hours=24)).isoformat() + 'Z'\n",
    "!atlas accessLists ..."
   ]
  },
  {
   "cell_type": "markdown",
   "metadata": {},
   "source": [
    "### 6. Check that 'My current IP' was added:"
   ]
  },
  {
   "cell_type": "code",
   "execution_count": null,
   "metadata": {},
   "outputs": [],
   "source": [
    "# CODE_BLOCK_6\n",
    "\n",
    "!atlas accessLists list --output json --projectId {project_id}"
   ]
  },
  {
   "cell_type": "markdown",
   "metadata": {},
   "source": [
    "### 7. Let's create a SCRAM user: 'myUser' with User/Password authentication and assign it the 'readWriteAnyDatabase' role."
   ]
  },
  {
   "cell_type": "code",
   "execution_count": null,
   "metadata": {},
   "outputs": [],
   "source": [
    "# CODE_BLOCK_7\n",
    "\n",
    "!atlas dbusers create ..."
   ]
  },
  {
   "cell_type": "markdown",
   "metadata": {},
   "source": [
    "### 8. Lets test our SCRAM user successful creation by performing the authentication process"
   ]
  },
  {
   "cell_type": "code",
   "execution_count": null,
   "metadata": {},
   "outputs": [],
   "source": [
    "# CODE_BLOCK_8\n",
    "\n",
    "!pip install pymongo dnspython"
   ]
  },
  {
   "cell_type": "code",
   "execution_count": null,
   "metadata": {},
   "outputs": [],
   "source": [
    "# CODE_BLOCK_9\n",
    "\n",
    "connection = !atlas clusters connectionStrings describe  MyNewCluster --projectId {project_id}\n",
    "username = 'myUser'\n",
    "password = 'mySecurePassword'\n",
    "new_connection = connection[1].replace('mongodb+srv://', f'mongodb+srv://{username}:{password}@')\n",
    "print(new_connection)\n",
    "from pymongo import MongoClient\n",
    "client = MongoClient(new_connection)\n",
    "client.list_database_names()"
   ]
  },
  {
   "cell_type": "markdown",
   "metadata": {},
   "source": [
    "### 10. Let's create  X509 user: 'myX509User' with User/Password authentication and assign it the 'readWriteAnyDatabase' role."
   ]
  },
  {
   "cell_type": "code",
   "execution_count": null,
   "metadata": {},
   "outputs": [],
   "source": [
    "# CODE_BLOCK_10\n",
    "\n",
    "!atlas dbusers create ...\n",
    "!atlas dbusers certs create ...  > /tmp/cert.pem"
   ]
  },
  {
   "cell_type": "markdown",
   "metadata": {},
   "source": [
    "### 11. Let's test our X509 User"
   ]
  },
  {
   "cell_type": "code",
   "execution_count": null,
   "metadata": {},
   "outputs": [],
   "source": [
    "# CODE_BLOCK_11\n",
    "\n",
    "username='myX509User'\n",
    "connection = !atlas clusters connectionStrings describe MyNewCluster --projectId {project_id}\n",
    "new_connection = connection[1].replace('.net', '.net?authSource=%24external&authMechanism=MONGODB-X509')\n",
    "print(new_connection)\n",
    "from pymongo import MongoClient\n",
    "client = MongoClient(new_connection,\n",
    "                     tlsCertificateKeyFile='/tmp/cert.pem')\n",
    "client.list_database_names()"
   ]
  },
  {
   "cell_type": "markdown",
   "metadata": {},
   "source": [
    "### 12. Let's create a user: 'myAdmin' with User/Password authentication and assign it the 'readWriteAnyDatabase' role, but only for the 'MyNewCluster' database."
   ]
  },
  {
   "cell_type": "code",
   "execution_count": null,
   "metadata": {},
   "outputs": [],
   "source": [
    "# CODE_BLOCK_12\n",
    "\n",
    "!atlas dbusers create ..."
   ]
  },
  {
   "cell_type": "markdown",
   "metadata": {},
   "source": [
    "### 13. Let's create a user: 'readOnlyUser' with read-only access to the 'salesDB' database."
   ]
  },
  {
   "cell_type": "code",
   "execution_count": null,
   "metadata": {},
   "outputs": [],
   "source": [
    "# CODE_BLOCK_13\n",
    "!atlas customDbRoles create ...\n",
    "!atlas dbusers create ..."
   ]
  },
  {
   "cell_type": "markdown",
   "metadata": {},
   "source": [
    "### 14. Let's test that the 'readOnlyUser' cannot insert data into the 'salesDB' database."
   ]
  },
  {
   "cell_type": "code",
   "execution_count": null,
   "metadata": {},
   "outputs": [],
   "source": [
    "# CODE_BLOCK_14\n",
    "# Assuming you have the connection string and credentials for the readOnlyUser\n",
    "username = 'readOnlyUser'\n",
    "password = 'readOnlyPass'\n",
    "connection = !atlas clusters connectionStrings describe MyNewCluster --projectId {project_id}\n",
    "new_connection = connection[1].replace('mongodb+srv://', f'mongodb+srv://{username}:{password}@')\n",
    "client = MongoClient(new_connection)\n",
    "db = client['salesDB']\n",
    "collection = db['mycollection']\n",
    "try:\n",
    "  data = {'name': 'John Doe', 'age': 30}\n",
    "  result = collection.insert_one(data)\n",
    "  print(f\"Inserted document with ID: {result.inserted_id}\")\n",
    "except Exception as e:\n",
    "  print(f\"Error inserting data: {e}\")"
   ]
  },
  {
   "cell_type": "markdown",
   "metadata": {},
   "source": [
    "### 15. Let's test that the 'myAdmin' user can insert data into the 'salesDB' database."
   ]
  },
  {
   "cell_type": "code",
   "execution_count": null,
   "metadata": {},
   "outputs": [],
   "source": [
    "# CODE_BLOCK_15\n",
    "# Assuming you have the connection string and credentials for the myAdmin user\n",
    "username = 'myAdmin'\n",
    "password = 'secureAdminPass'\n",
    "connection = !atlas clusters connectionStrings describe MyNewCluster --projectId {project_id}\n",
    "new_connection = connection[1].replace('mongodb+srv://', f'mongodb+srv://{username}:{password}@')\n",
    "client = MongoClient(new_connection)\n",
    "db = client['salesDB']\n",
    "collection = db['mycollection']\n",
    "try:\n",
    "  data = {'name': 'John Doe', 'age': 30}\n",
    "  result = collection.insert_one(data)\n",
    "  print(f\"Inserted document with ID: {result.inserted_id}\")\n",
    "except Exception as e:\n",
    "  print(f\"Error inserting data: {e}\")"
   ]
  },
  {
   "cell_type": "markdown",
   "metadata": {},
   "source": [
    "### 16. Install the necessary packages."
   ]
  },
  {
   "cell_type": "code",
   "execution_count": null,
   "metadata": {},
   "outputs": [],
   "source": [
    "# CODE_BLOCK_16\n",
    "!pip install pymongo[encryption]\n",
    "!pip install pymongo\n",
    "!pip install requests"
   ]
  },
  {
   "cell_type": "markdown",
   "metadata": {},
   "source": [
    "### 17. Set up the crypt_shared library."
   ]
  },
  {
   "cell_type": "code",
   "execution_count": null,
   "metadata": {},
   "outputs": [],
   "source": [
    "# CODE_BLOCK_17\n",
    "import os\n",
    "from pymongo import MongoClient\n",
    "from pymongo.encryption import Algorithm, ClientEncryption, QueryType\n",
    "from pymongo.encryption_options import AutoEncryptionOpts\n",
    "from bson.codec_options import CodecOptions\n",
    "from bson import json_util\n",
    "import json\n",
    "import requests\n",
    "import platform\n",
    "import tempfile\n",
    "def setup_crypt_shared():\n",
    "    system = platform.system().lower()\n",
    "    if system == \"linux\":\n",
    "        url = \"https://downloads.mongodb.com/linux/mongo_crypt_shared_v1-linux-x86_64-enterprise-ubuntu2004-6.0.6.tgz\"\n",
    "        filename = \"mongo_crypt_shared_v1-linux-x86_64-enterprise-ubuntu2004-6.0.6.tgz\"\n",
    "    elif system == \"darwin\":\n",
    "        url = \"https://downloads.mongodb.com/osx/mongo_crypt_shared_v1-macos-x86_64-enterprise-6.0.6.tgz\"\n",
    "        filename = \"mongo_crypt_shared_v1-macos-x86_64-enterprise-6.0.6.tgz\"\n",
    "    elif system == \"windows\":\n",
    "        url = \"https://downloads.mongodb.com/windows/mongo_crypt_shared_v1-windows-x86_64-enterprise-6.0.6.zip\"\n",
    "        filename = \"mongo_crypt_shared_v1-windows-x86_64-enterprise-6.0.6.zip\"\n",
    "    else:\n",
    "        raise OSError(\"Unsupported operating system\")\n",
    "    response = requests.get(url)\n",
    "    response.raise_for_status()\n",
    "    with tempfile.NamedTemporaryFile(delete=False, suffix=\".tgz\" if system != \"windows\" else \".zip\") as tmp_file:\n",
    "        tmp_file.write(response.content)\n",
    "        tmp_file_path = tmp_file.name\n",
    "    extract_dir = tempfile.mkdtemp()\n",
    "    if system != \"windows\":\n",
    "        os.system(f\"tar -xzf {tmp_file_path} -C {extract_dir}\")\n",
    "        lib_path = os.path.join(extract_dir, \"lib\", \"mongo_crypt_v1.so\")\n",
    "    else:\n",
    "        os.system(f\"powershell Expand-Archive -Path {tmp_file_path} -DestinationPath {extract_dir}\")\n",
    "        lib_path = os.path.join(extract_dir, \"bin\", \"mongo_crypt_v1.dll\")\n",
    "    return lib_path\n",
    "crypt_shared_lib_path = setup_crypt_shared()\n",
    "print(f\"Crypt shared library path: {crypt_shared_lib_path}\")"
   ]
  },
  {
   "cell_type": "markdown",
   "metadata": {},
   "source": [
    "### 18. Connect to your Atlas cluster."
   ]
  },
  {
   "cell_type": "code",
   "execution_count": null,
   "metadata": {},
   "outputs": [],
   "source": [
    "# CODE_BLOCK_18\n",
    "connection = !atlas clusters connectionStrings describe  MyNewCluster --projectId {project_id}\n",
    "username = 'myUser'\n",
    "password = 'mySecurePassword'\n",
    "new_connection = connection[1].replace('mongodb+srv://', f'mongodb+srv://{username}:{password}@')\n",
    "print(new_connection)\n",
    "from pymongo import MongoClient\n",
    "client = MongoClient(new_connection)"
   ]
  },
  {
   "cell_type": "markdown",
   "metadata": {},
   "source": [
    "### 19. Set up encryption key and providers, define the encrypted fields map, create an encrypted client, and set up the key vault."
   ]
  },
  {
   "cell_type": "code",
   "execution_count": null,
   "metadata": {},
   "outputs": [],
   "source": [
    "# CODE_BLOCK_19\n",
    "\n",
    "import os\n",
    "from pymongo import MongoClient\n",
    "from pymongo.encryption import Algorithm, ClientEncryption, QueryType\n",
    "from pymongo.encryption_options import AutoEncryptionOpts\n",
    "from bson.codec_options import CodecOptions\n",
    "from bson import json_util\n",
    "import json\n",
    "import requests\n",
    "import platform\n",
    "import tempfile\n",
    "\n",
    "local_master_key = os.urandom(96)\n",
    "kms_providers = {\"local\": {\"key\": local_master_key}}\n",
    "key_vault_namespace = \"encryption.__keyVault\"\n",
    "kms_provider_name=\"local\"\n",
    "key_vault_database_name = \"encryption\"\n",
    "key_vault_collection_name = \"__keyVault\"\n",
    "key_vault_namespace = f\"{key_vault_database_name}.{key_vault_collection_name}\"\n",
    "encrypted_database_name = \"medicalRecords\"\n",
    "encrypted_collection_name = \"patients\"\n",
    "\n",
    "auto_encryption_options = AutoEncryptionOpts(\n",
    "    kms_providers,\n",
    "    key_vault_namespace,\n",
    "    crypt_shared_lib_path=crypt_shared_lib_path\n",
    ")\n",
    "\n",
    "encrypted_client = MongoClient(\n",
    "    new_connection, auto_encryption_opts=auto_encryption_options)\n",
    "\n",
    "# TODO CODE_BLOCK_19\n",
    "\n",
    "encrypted_fields_map = ...\n",
    "\n",
    "client_encryption = ClientEncryption(\n",
    "    kms_providers=kms_providers,\n",
    "    key_vault_namespace=key_vault_namespace,\n",
    "    key_vault_client=encrypted_client,\n",
    "    codec_options=CodecOptions()\n",
    ")\n",
    "\n",
    "# TODO CODE_BLOCK_19\n",
    "\n",
    "client_encryption.create_encrypted_collection(\n",
    "    encrypted_client[encrypted_database_name],\n",
    "    encrypted_collection_name,\n",
    "    ... ,\n",
    "    kms_provider_name,\n",
    "    {},\n",
    ")\n"
   ]
  },
  {
   "cell_type": "markdown",
   "metadata": {},
   "source": [
    "### 20. Insert an encrypted document."
   ]
  },
  {
   "cell_type": "code",
   "execution_count": null,
   "metadata": {},
   "outputs": [],
   "source": [
    "#  CODE_BLOCK_20\n",
    "\n",
    "patient_document = {\n",
    "    \"patientName\": \"Jon Doe\",\n",
    "    \"patientId\": 12345678,\n",
    "    \"patientRecord\": {\n",
    "        \"ssn\": \"987-65-4320\",\n",
    "        \"billing\": {\n",
    "            \"type\": \"Visa\",\n",
    "            \"number\": \"4111111111111111\",\n",
    "        },\n",
    "    },\n",
    "}\n",
    "\n",
    "# TODO CODE_BLOCK_20\n",
    "\n",
    "encrypted_collection = #  encrypted_client ...\n",
    "result = encrypted_collection.insert_one(...)\n",
    "print(f\"Inserted document ID: {result.inserted_id}\")\n"
   ]
  },
  {
   "cell_type": "markdown",
   "metadata": {},
   "source": [
    "### 21. Query the encrypted collection."
   ]
  },
  {
   "cell_type": "code",
   "execution_count": null,
   "metadata": {},
   "outputs": [],
   "source": [
    "# TODO CODE_BLOCK_21\n",
    "\n",
    "find_result = encrypted_collection.find_one(...)\n",
    "print(find_result)"
   ]
  },
  {
   "cell_type": "markdown",
   "metadata": {},
   "source": [
    "### 22. Query the collection without encryption."
   ]
  },
  {
   "cell_type": "code",
   "execution_count": null,
   "metadata": {},
   "outputs": [],
   "source": [
    "# CODE_BLOCK_22\n",
    "\n",
    "reg_mongoclient = MongoClient(new_connection)\n",
    "\n",
    "\n",
    "# TODO CODE_BLOCK_22\n",
    "\n",
    "find_result = reg_mongoclient[encrypted_database_name][encrypted_collection_name].find_one(...)\n",
    "print(find_result)\n",
    "\n",
    "all_docs = reg_mongoclient[encrypted_database_name][encrypted_collection_name].find()\n",
    "print(\"\\nAll documents in the collection:\")\n",
    "for doc in all_docs:\n",
    "    print(doc)"
   ]
  }
 ],
 "metadata": {
  "kernelspec": {
   "display_name": "Python 3",
   "language": "python",
   "name": "python3"
  },
  "language_info": {
   "codemirror_mode": {
    "name": "ipython",
    "version": 3
   },
   "file_extension": ".py",
   "mimetype": "text/x-python",
   "name": "python",
   "nbconvert_exporter": "python",
   "pygments_lexer": "ipython3",
   "version": "3.8.5"
  }
 },
 "nbformat": 4,
 "nbformat_minor": 0
}
